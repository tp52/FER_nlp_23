{
  "nbformat": 4,
  "nbformat_minor": 0,
  "metadata": {
    "colab": {
      "provenance": []
    },
    "kernelspec": {
      "name": "python3",
      "display_name": "Python 3"
    },
    "language_info": {
      "name": "python"
    }
  },
  "cells": [
    {
      "cell_type": "code",
      "execution_count": null,
      "metadata": {
        "id": "00sOqJoFb3vS"
      },
      "outputs": [],
      "source": [
        "import pandas as pd"
      ]
    },
    {
      "cell_type": "code",
      "source": [
        "df_original = pd.read_csv(\"final-songs.csv\")"
      ],
      "metadata": {
        "id": "6h3j2FsUb8W4"
      },
      "execution_count": null,
      "outputs": []
    },
    {
      "cell_type": "code",
      "source": [
        "df_edm = pd.read_csv(\"edmonds_hip_hop_songs.csv\")"
      ],
      "metadata": {
        "id": "DEXj3l6TcHEf"
      },
      "execution_count": null,
      "outputs": []
    },
    {
      "cell_type": "code",
      "source": [
        "df_original.columns"
      ],
      "metadata": {
        "colab": {
          "base_uri": "https://localhost:8080/"
        },
        "id": "coLFHz54caqt",
        "outputId": "7195edbf-247f-4e3c-bff6-d86a9b9b55f8"
      },
      "execution_count": null,
      "outputs": [
        {
          "output_type": "execute_result",
          "data": {
            "text/plain": [
              "Index(['song_id', 'artist', 'title', 'lyric', 'anger', 'confidence', 'desire',\n",
              "       'disgust', 'gratitude', 'joy', 'love', 'lust', 'pride', 'sadness',\n",
              "       'shame'],\n",
              "      dtype='object')"
            ]
          },
          "metadata": {},
          "execution_count": 4
        }
      ]
    },
    {
      "cell_type": "code",
      "source": [
        "print(\"Size of df_originals:\", len(df_original))"
      ],
      "metadata": {
        "colab": {
          "base_uri": "https://localhost:8080/"
        },
        "id": "vMSSD4vCdcPM",
        "outputId": "b873cd6c-d944-4b5c-b473-d184602181f0"
      },
      "execution_count": null,
      "outputs": [
        {
          "output_type": "stream",
          "name": "stdout",
          "text": [
            "Size of df_originals: 203\n"
          ]
        }
      ]
    },
    {
      "cell_type": "code",
      "source": [
        "df_edm.columns"
      ],
      "metadata": {
        "colab": {
          "base_uri": "https://localhost:8080/"
        },
        "id": "S2rZPJzkcgjW",
        "outputId": "18d7a795-7b54-4bf2-b5e2-c9e2b11754eb"
      },
      "execution_count": null,
      "outputs": [
        {
          "output_type": "execute_result",
          "data": {
            "text/plain": [
              "Index(['Unnamed: 0', 'Song', 'Artists', 'Lyrics', 'Joy', 'Trust', 'Fear',\n",
              "       'Surprise', 'Sadness', 'Disgust', 'Anger', 'Anticipation',\n",
              "       'Unnamed: 11'],\n",
              "      dtype='object')"
            ]
          },
          "metadata": {},
          "execution_count": 6
        }
      ]
    },
    {
      "cell_type": "code",
      "source": [
        "print(\"Size of df_originals:\", len(df_edm))"
      ],
      "metadata": {
        "colab": {
          "base_uri": "https://localhost:8080/"
        },
        "id": "l2wR5dJOdjqW",
        "outputId": "0f59b211-1f0a-410c-839b-c514b4f9dd0f"
      },
      "execution_count": null,
      "outputs": [
        {
          "output_type": "stream",
          "name": "stdout",
          "text": [
            "Size of df_originals: 31\n"
          ]
        }
      ]
    },
    {
      "cell_type": "code",
      "source": [
        "df_edm.rename(columns={\n",
        "    'Song': 'title',\n",
        "    'Artists': 'artist',\n",
        "    'Lyrics': 'lyric',\n",
        "    'Joy': 'joy',\n",
        "    'Trust': 'confidence',  # Assuming 'Trust' in df_edm is equivalent to 'confidence' in df_original\n",
        "    'Fear': 'fear',  # Add 'fear' to df_original if needed\n",
        "    'Surprise': 'surprise',  # Add 'surprise' to df_original if needed\n",
        "    'Sadness': 'sadness',\n",
        "    'Disgust': 'disgust',\n",
        "    'Anger': 'anger',\n",
        "    'Anticipation': 'anticipation'  # Add 'anticipation' to df_original if needed\n",
        "}, inplace=True)\n",
        "\n",
        "# Drop unwanted columns\n",
        "df_edm.drop(columns=['Unnamed: 0', 'Unnamed: 11'], inplace=True)\n",
        "\n",
        "# Concatenate the dataframes\n",
        "df_combined = pd.concat([df_original, df_edm], ignore_index=True)\n",
        "\n",
        "# If needed, fill any missing columns with NaN or appropriate default values\n",
        "# df_combined = df_combined.fillna(value={'your_column': 'default_value'})\n",
        "\n",
        "# View the combined dataframe\n",
        "print(df_combined.head())"
      ],
      "metadata": {
        "colab": {
          "base_uri": "https://localhost:8080/"
        },
        "id": "ib41qLvhdrMA",
        "outputId": "7f8a8cfd-2ba5-435d-cc60-8d014565ad56"
      },
      "execution_count": null,
      "outputs": [
        {
          "output_type": "stream",
          "name": "stdout",
          "text": [
            "     song_id artist                      title  \\\n",
            "0  3315890.0  Drake                 God’s Plan   \n",
            "1  3807759.0  Drake             In My Feelings   \n",
            "2  2263723.0  Drake              Hotline Bling   \n",
            "3  2450584.0  Drake                  One Dance   \n",
            "4   200546.0  Drake  Hold On, We’re Going Home   \n",
            "\n",
            "                                               lyric  anger  confidence  \\\n",
            "0  and they wishin' and wishin' and wishin' and w...      0           1   \n",
            "1  trap, trapmoneybenny this shit got me in my fe...      0           0   \n",
            "2  you used to call me on my you used to, you use...      0           0   \n",
            "3  baby, i like your style   grips on your waist,...      0           0   \n",
            "4  i got my eyes on you you're everything that i ...      0           0   \n",
            "\n",
            "   desire  disgust  gratitude  joy  love  lust  pride  sadness  shame  fear  \\\n",
            "0     0.0        0        1.0    1   0.0   0.0    0.0        0    0.0   NaN   \n",
            "1     0.0        0        0.0    1   1.0   1.0    0.0        0    0.0   NaN   \n",
            "2     1.0        0        0.0    0   0.0   0.0    0.0        1    0.0   NaN   \n",
            "3     1.0        0        0.0    1   0.0   0.0    0.0        0    0.0   NaN   \n",
            "4     1.0        0        0.0    0   1.0   0.0    0.0        0    0.0   NaN   \n",
            "\n",
            "   surprise  anticipation  \n",
            "0       NaN           NaN  \n",
            "1       NaN           NaN  \n",
            "2       NaN           NaN  \n",
            "3       NaN           NaN  \n",
            "4       NaN           NaN  \n"
          ]
        }
      ]
    },
    {
      "cell_type": "code",
      "source": [
        "df_combined.columns"
      ],
      "metadata": {
        "colab": {
          "base_uri": "https://localhost:8080/"
        },
        "id": "ycLY2XZWx5Lw",
        "outputId": "3e58d3aa-df1a-4980-c3b3-237f78f59bde"
      },
      "execution_count": null,
      "outputs": [
        {
          "output_type": "execute_result",
          "data": {
            "text/plain": [
              "Index(['song_id', 'artist', 'title', 'lyric', 'anger', 'confidence', 'desire',\n",
              "       'disgust', 'gratitude', 'joy', 'love', 'lust', 'pride', 'sadness',\n",
              "       'shame', 'fear', 'surprise', 'anticipation'],\n",
              "      dtype='object')"
            ]
          },
          "metadata": {},
          "execution_count": 9
        }
      ]
    },
    {
      "cell_type": "code",
      "source": [
        "df_combined.fillna(0, inplace=True)"
      ],
      "metadata": {
        "id": "lpa4HnpndxtR"
      },
      "execution_count": null,
      "outputs": []
    },
    {
      "cell_type": "code",
      "source": [
        "print(df_combined.head())"
      ],
      "metadata": {
        "colab": {
          "base_uri": "https://localhost:8080/"
        },
        "id": "Lrl0amfud7mq",
        "outputId": "424239e3-67e3-4ec8-9222-1599e7f73350"
      },
      "execution_count": null,
      "outputs": [
        {
          "output_type": "stream",
          "name": "stdout",
          "text": [
            "     song_id artist                      title  \\\n",
            "0  3315890.0  Drake                 God’s Plan   \n",
            "1  3807759.0  Drake             In My Feelings   \n",
            "2  2263723.0  Drake              Hotline Bling   \n",
            "3  2450584.0  Drake                  One Dance   \n",
            "4   200546.0  Drake  Hold On, We’re Going Home   \n",
            "\n",
            "                                               lyric  anger  confidence  \\\n",
            "0  and they wishin' and wishin' and wishin' and w...      0           1   \n",
            "1  trap, trapmoneybenny this shit got me in my fe...      0           0   \n",
            "2  you used to call me on my you used to, you use...      0           0   \n",
            "3  baby, i like your style   grips on your waist,...      0           0   \n",
            "4  i got my eyes on you you're everything that i ...      0           0   \n",
            "\n",
            "   desire  disgust  gratitude  joy  love  lust  pride  sadness  shame  fear  \\\n",
            "0     0.0        0        1.0    1   0.0   0.0    0.0        0    0.0   0.0   \n",
            "1     0.0        0        0.0    1   1.0   1.0    0.0        0    0.0   0.0   \n",
            "2     1.0        0        0.0    0   0.0   0.0    0.0        1    0.0   0.0   \n",
            "3     1.0        0        0.0    1   0.0   0.0    0.0        0    0.0   0.0   \n",
            "4     1.0        0        0.0    0   1.0   0.0    0.0        0    0.0   0.0   \n",
            "\n",
            "   surprise  anticipation  \n",
            "0       0.0           0.0  \n",
            "1       0.0           0.0  \n",
            "2       0.0           0.0  \n",
            "3       0.0           0.0  \n",
            "4       0.0           0.0  \n"
          ]
        }
      ]
    },
    {
      "cell_type": "code",
      "source": [
        "df_combined.columns"
      ],
      "metadata": {
        "colab": {
          "base_uri": "https://localhost:8080/"
        },
        "id": "mqV2i03beCGj",
        "outputId": "3c5ff65d-f856-443a-a757-c8c6bb6483ed"
      },
      "execution_count": null,
      "outputs": [
        {
          "output_type": "execute_result",
          "data": {
            "text/plain": [
              "Index(['song_id', 'artist', 'title', 'lyric', 'anger', 'confidence', 'desire',\n",
              "       'disgust', 'gratitude', 'joy', 'love', 'lust', 'pride', 'sadness',\n",
              "       'shame', 'fear', 'surprise', 'anticipation'],\n",
              "      dtype='object')"
            ]
          },
          "metadata": {},
          "execution_count": 12
        }
      ]
    },
    {
      "cell_type": "code",
      "source": [
        "columns_to_convert = ['anger', 'confidence', 'desire', 'disgust', 'gratitude',\n",
        "                      'joy', 'love', 'lust', 'pride', 'sadness', 'shame',\n",
        "                      'fear', 'surprise', 'anticipation']\n",
        "\n",
        "# Convert each column in the list to integer type\n",
        "for column in columns_to_convert:\n",
        "    df_combined[column] = df_combined[column].astype(int)\n",
        "\n",
        "# Check the data types of the columns to confirm\n",
        "print(df_combined.dtypes)"
      ],
      "metadata": {
        "colab": {
          "base_uri": "https://localhost:8080/"
        },
        "id": "NtJdD-mrexTh",
        "outputId": "f9d42dae-ef1d-467b-8b3e-83ef3c29a53a"
      },
      "execution_count": null,
      "outputs": [
        {
          "output_type": "stream",
          "name": "stdout",
          "text": [
            "song_id         float64\n",
            "artist           object\n",
            "title            object\n",
            "lyric            object\n",
            "anger             int64\n",
            "confidence        int64\n",
            "desire            int64\n",
            "disgust           int64\n",
            "gratitude         int64\n",
            "joy               int64\n",
            "love              int64\n",
            "lust              int64\n",
            "pride             int64\n",
            "sadness           int64\n",
            "shame             int64\n",
            "fear              int64\n",
            "surprise          int64\n",
            "anticipation      int64\n",
            "dtype: object\n"
          ]
        }
      ]
    },
    {
      "cell_type": "code",
      "source": [
        "df_combined.info()"
      ],
      "metadata": {
        "colab": {
          "base_uri": "https://localhost:8080/"
        },
        "id": "PKt1cCvue0CC",
        "outputId": "44b87d77-a714-4774-f1c8-2b8b21bdc824"
      },
      "execution_count": null,
      "outputs": [
        {
          "output_type": "stream",
          "name": "stdout",
          "text": [
            "<class 'pandas.core.frame.DataFrame'>\n",
            "RangeIndex: 234 entries, 0 to 233\n",
            "Data columns (total 18 columns):\n",
            " #   Column        Non-Null Count  Dtype  \n",
            "---  ------        --------------  -----  \n",
            " 0   song_id       234 non-null    float64\n",
            " 1   artist        234 non-null    object \n",
            " 2   title         234 non-null    object \n",
            " 3   lyric         234 non-null    object \n",
            " 4   anger         234 non-null    int64  \n",
            " 5   confidence    234 non-null    int64  \n",
            " 6   desire        234 non-null    int64  \n",
            " 7   disgust       234 non-null    int64  \n",
            " 8   gratitude     234 non-null    int64  \n",
            " 9   joy           234 non-null    int64  \n",
            " 10  love          234 non-null    int64  \n",
            " 11  lust          234 non-null    int64  \n",
            " 12  pride         234 non-null    int64  \n",
            " 13  sadness       234 non-null    int64  \n",
            " 14  shame         234 non-null    int64  \n",
            " 15  fear          234 non-null    int64  \n",
            " 16  surprise      234 non-null    int64  \n",
            " 17  anticipation  234 non-null    int64  \n",
            "dtypes: float64(1), int64(14), object(3)\n",
            "memory usage: 33.0+ KB\n"
          ]
        }
      ]
    },
    {
      "cell_type": "code",
      "source": [
        "len(df_combined)"
      ],
      "metadata": {
        "colab": {
          "base_uri": "https://localhost:8080/"
        },
        "id": "Kcf3XE9re7P0",
        "outputId": "19ae57c1-c0ed-4c1a-f8e1-b5321f982457"
      },
      "execution_count": null,
      "outputs": [
        {
          "output_type": "execute_result",
          "data": {
            "text/plain": [
              "234"
            ]
          },
          "metadata": {},
          "execution_count": 15
        }
      ]
    },
    {
      "cell_type": "code",
      "source": [
        "for column in columns_to_convert:\n",
        "    print(\"Emotion : \", column)\n",
        "    print(df_combined[column].value_counts())\n",
        "    print(\"--------\")"
      ],
      "metadata": {
        "colab": {
          "base_uri": "https://localhost:8080/"
        },
        "id": "21KTKt5Ie-HU",
        "outputId": "3ae74ece-2268-4f3b-a412-8cd5d5591cf8"
      },
      "execution_count": null,
      "outputs": [
        {
          "output_type": "stream",
          "name": "stdout",
          "text": [
            "Emotion :  anger\n",
            "0    180\n",
            "1     54\n",
            "Name: anger, dtype: int64\n",
            "--------\n",
            "Emotion :  confidence\n",
            "0    139\n",
            "1     95\n",
            "Name: confidence, dtype: int64\n",
            "--------\n",
            "Emotion :  desire\n",
            "0    172\n",
            "1     62\n",
            "Name: desire, dtype: int64\n",
            "--------\n",
            "Emotion :  disgust\n",
            "0    203\n",
            "1     31\n",
            "Name: disgust, dtype: int64\n",
            "--------\n",
            "Emotion :  gratitude\n",
            "0    225\n",
            "1      9\n",
            "Name: gratitude, dtype: int64\n",
            "--------\n",
            "Emotion :  joy\n",
            "0    176\n",
            "1     58\n",
            "Name: joy, dtype: int64\n",
            "--------\n",
            "Emotion :  love\n",
            "0    185\n",
            "1     49\n",
            "Name: love, dtype: int64\n",
            "--------\n",
            "Emotion :  lust\n",
            "0    198\n",
            "1     36\n",
            "Name: lust, dtype: int64\n",
            "--------\n",
            "Emotion :  pride\n",
            "0    232\n",
            "1      2\n",
            "Name: pride, dtype: int64\n",
            "--------\n",
            "Emotion :  sadness\n",
            "0    183\n",
            "1     51\n",
            "Name: sadness, dtype: int64\n",
            "--------\n",
            "Emotion :  shame\n",
            "0    230\n",
            "1      4\n",
            "Name: shame, dtype: int64\n",
            "--------\n",
            "Emotion :  fear\n",
            "0    227\n",
            "1      7\n",
            "Name: fear, dtype: int64\n",
            "--------\n",
            "Emotion :  surprise\n",
            "0    233\n",
            "1      1\n",
            "Name: surprise, dtype: int64\n",
            "--------\n",
            "Emotion :  anticipation\n",
            "0    229\n",
            "1      5\n",
            "Name: anticipation, dtype: int64\n",
            "--------\n"
          ]
        }
      ]
    },
    {
      "cell_type": "code",
      "source": [
        "df_combined.drop(columns=[\"surprise\",\"pride\"], inplace=True)"
      ],
      "metadata": {
        "id": "qhgW-lvlfUcz"
      },
      "execution_count": null,
      "outputs": []
    },
    {
      "cell_type": "code",
      "source": [
        "# List of all emotion columns\n",
        "emotion_columns = ['anger', 'confidence', 'desire', 'disgust', 'gratitude',\n",
        "                   'joy', 'love', 'lust', 'sadness', 'shame',\n",
        "                   'fear', 'anticipation']\n",
        "\n",
        "# Check for songs with no emotions classified (all zeros in emotion columns)\n",
        "no_emotion_songs = df_combined[df_combined[emotion_columns].sum(axis=1) == 0]\n",
        "\n",
        "# Display these songs\n",
        "print(no_emotion_songs)\n"
      ],
      "metadata": {
        "colab": {
          "base_uri": "https://localhost:8080/"
        },
        "id": "8WpnaheQhDuh",
        "outputId": "00444b85-9efa-496e-e9bc-2ed94cde0a0f"
      },
      "execution_count": null,
      "outputs": [
        {
          "output_type": "stream",
          "name": "stdout",
          "text": [
            "Empty DataFrame\n",
            "Columns: [song_id, artist, title, lyric, anger, confidence, desire, disgust, gratitude, joy, love, lust, sadness, shame, fear, anticipation]\n",
            "Index: []\n"
          ]
        }
      ]
    },
    {
      "cell_type": "markdown",
      "source": [
        "Display once again, the distribution of undersampled emotions in dataframe"
      ],
      "metadata": {
        "id": "J7URj6jRh_gZ"
      }
    },
    {
      "cell_type": "code",
      "source": [
        "# List of all emotion columns\n",
        "emotion_columns = ['anger', 'confidence', 'desire', 'disgust', 'gratitude',\n",
        "                   'joy', 'love', 'lust',  'sadness', 'shame',\n",
        "                   'fear',  'anticipation']\n",
        "\n",
        "# Calculate the sum (frequency) of each emotion\n",
        "emotion_counts = df_combined[emotion_columns].sum()\n",
        "\n",
        "# Sort the emotions by their frequency (ascending order)\n",
        "sorted_emotion_counts = emotion_counts.sort_values()\n",
        "\n",
        "# Display the least represented emotions\n",
        "print(sorted_emotion_counts)\n"
      ],
      "metadata": {
        "colab": {
          "base_uri": "https://localhost:8080/"
        },
        "id": "tgeZKWFfhbVs",
        "outputId": "a1ff50f1-1395-4963-a59d-c90f91b74aae"
      },
      "execution_count": null,
      "outputs": [
        {
          "output_type": "stream",
          "name": "stdout",
          "text": [
            "shame            4\n",
            "anticipation     5\n",
            "fear             7\n",
            "gratitude        9\n",
            "disgust         31\n",
            "lust            36\n",
            "love            49\n",
            "sadness         51\n",
            "anger           54\n",
            "joy             58\n",
            "desire          62\n",
            "confidence      95\n",
            "dtype: int64\n"
          ]
        }
      ]
    },
    {
      "cell_type": "markdown",
      "source": [
        "Most underrepresented emotions are: shame, anticipation, fear, graditude. We will perform over-sampiling on them, to get their"
      ],
      "metadata": {
        "id": "iRt5farviT7f"
      }
    },
    {
      "cell_type": "code",
      "source": [
        "# Oversample each underrepresented emotion\n",
        "for emotion in [\"shame\",\"anticipation\",\"fear\",\"gratitude\"]:\n",
        "    # Filter rows where the emotion is present\n",
        "    emotion_rows = df_combined[df_combined[emotion] == 1]\n",
        "\n",
        "    # Calculate how many duplicates are needed\n",
        "    num_duplicates = 20 - emotion_counts[emotion]\n",
        "\n",
        "    # Duplicate the rows and append to the dataframe\n",
        "    df_combined = pd.concat([df_combined, emotion_rows.sample(n=num_duplicates, replace=True)], ignore_index=True)\n",
        "\n",
        "# Verify the changes\n",
        "print(df_combined[emotion_columns].sum())"
      ],
      "metadata": {
        "colab": {
          "base_uri": "https://localhost:8080/"
        },
        "id": "st-sUURQibLd",
        "outputId": "229c1a8c-c123-4292-8442-6d0e1e9dfd3f"
      },
      "execution_count": null,
      "outputs": [
        {
          "output_type": "stream",
          "name": "stdout",
          "text": [
            "anger            60\n",
            "confidence      117\n",
            "desire           62\n",
            "disgust          48\n",
            "gratitude        20\n",
            "joy              68\n",
            "love             51\n",
            "lust             36\n",
            "sadness          83\n",
            "shame            20\n",
            "fear             20\n",
            "anticipation     20\n",
            "dtype: int64\n"
          ]
        }
      ]
    },
    {
      "cell_type": "code",
      "source": [
        "len(df_combined)"
      ],
      "metadata": {
        "colab": {
          "base_uri": "https://localhost:8080/"
        },
        "id": "woZYm-QTiTHr",
        "outputId": "1ca934e7-f041-4e50-c8d1-c6f47e87c64a"
      },
      "execution_count": null,
      "outputs": [
        {
          "output_type": "execute_result",
          "data": {
            "text/plain": [
              "289"
            ]
          },
          "metadata": {},
          "execution_count": 21
        }
      ]
    },
    {
      "cell_type": "code",
      "source": [
        "df_combined.head()"
      ],
      "metadata": {
        "colab": {
          "base_uri": "https://localhost:8080/",
          "height": 469
        },
        "id": "gceK8dvplqKA",
        "outputId": "2897bac6-5efd-4d55-e819-ff5c270a764b"
      },
      "execution_count": null,
      "outputs": [
        {
          "output_type": "execute_result",
          "data": {
            "text/plain": [
              "     song_id artist                      title  \\\n",
              "0  3315890.0  Drake                 God’s Plan   \n",
              "1  3807759.0  Drake             In My Feelings   \n",
              "2  2263723.0  Drake              Hotline Bling   \n",
              "3  2450584.0  Drake                  One Dance   \n",
              "4   200546.0  Drake  Hold On, We’re Going Home   \n",
              "\n",
              "                                               lyric  anger  confidence  \\\n",
              "0  and they wishin' and wishin' and wishin' and w...      0           1   \n",
              "1  trap, trapmoneybenny this shit got me in my fe...      0           0   \n",
              "2  you used to call me on my you used to, you use...      0           0   \n",
              "3  baby, i like your style   grips on your waist,...      0           0   \n",
              "4  i got my eyes on you you're everything that i ...      0           0   \n",
              "\n",
              "   desire  disgust  gratitude  joy  love  lust  sadness  shame  fear  \\\n",
              "0       0        0          1    1     0     0        0      0     0   \n",
              "1       0        0          0    1     1     1        0      0     0   \n",
              "2       1        0          0    0     0     0        1      0     0   \n",
              "3       1        0          0    1     0     0        0      0     0   \n",
              "4       1        0          0    0     1     0        0      0     0   \n",
              "\n",
              "   anticipation  \n",
              "0             0  \n",
              "1             0  \n",
              "2             0  \n",
              "3             0  \n",
              "4             0  "
            ],
            "text/html": [
              "\n",
              "  <div id=\"df-8048a586-274d-4605-b799-cb8712672f83\" class=\"colab-df-container\">\n",
              "    <div>\n",
              "<style scoped>\n",
              "    .dataframe tbody tr th:only-of-type {\n",
              "        vertical-align: middle;\n",
              "    }\n",
              "\n",
              "    .dataframe tbody tr th {\n",
              "        vertical-align: top;\n",
              "    }\n",
              "\n",
              "    .dataframe thead th {\n",
              "        text-align: right;\n",
              "    }\n",
              "</style>\n",
              "<table border=\"1\" class=\"dataframe\">\n",
              "  <thead>\n",
              "    <tr style=\"text-align: right;\">\n",
              "      <th></th>\n",
              "      <th>song_id</th>\n",
              "      <th>artist</th>\n",
              "      <th>title</th>\n",
              "      <th>lyric</th>\n",
              "      <th>anger</th>\n",
              "      <th>confidence</th>\n",
              "      <th>desire</th>\n",
              "      <th>disgust</th>\n",
              "      <th>gratitude</th>\n",
              "      <th>joy</th>\n",
              "      <th>love</th>\n",
              "      <th>lust</th>\n",
              "      <th>sadness</th>\n",
              "      <th>shame</th>\n",
              "      <th>fear</th>\n",
              "      <th>anticipation</th>\n",
              "    </tr>\n",
              "  </thead>\n",
              "  <tbody>\n",
              "    <tr>\n",
              "      <th>0</th>\n",
              "      <td>3315890.0</td>\n",
              "      <td>Drake</td>\n",
              "      <td>God’s Plan</td>\n",
              "      <td>and they wishin' and wishin' and wishin' and w...</td>\n",
              "      <td>0</td>\n",
              "      <td>1</td>\n",
              "      <td>0</td>\n",
              "      <td>0</td>\n",
              "      <td>1</td>\n",
              "      <td>1</td>\n",
              "      <td>0</td>\n",
              "      <td>0</td>\n",
              "      <td>0</td>\n",
              "      <td>0</td>\n",
              "      <td>0</td>\n",
              "      <td>0</td>\n",
              "    </tr>\n",
              "    <tr>\n",
              "      <th>1</th>\n",
              "      <td>3807759.0</td>\n",
              "      <td>Drake</td>\n",
              "      <td>In My Feelings</td>\n",
              "      <td>trap, trapmoneybenny this shit got me in my fe...</td>\n",
              "      <td>0</td>\n",
              "      <td>0</td>\n",
              "      <td>0</td>\n",
              "      <td>0</td>\n",
              "      <td>0</td>\n",
              "      <td>1</td>\n",
              "      <td>1</td>\n",
              "      <td>1</td>\n",
              "      <td>0</td>\n",
              "      <td>0</td>\n",
              "      <td>0</td>\n",
              "      <td>0</td>\n",
              "    </tr>\n",
              "    <tr>\n",
              "      <th>2</th>\n",
              "      <td>2263723.0</td>\n",
              "      <td>Drake</td>\n",
              "      <td>Hotline Bling</td>\n",
              "      <td>you used to call me on my you used to, you use...</td>\n",
              "      <td>0</td>\n",
              "      <td>0</td>\n",
              "      <td>1</td>\n",
              "      <td>0</td>\n",
              "      <td>0</td>\n",
              "      <td>0</td>\n",
              "      <td>0</td>\n",
              "      <td>0</td>\n",
              "      <td>1</td>\n",
              "      <td>0</td>\n",
              "      <td>0</td>\n",
              "      <td>0</td>\n",
              "    </tr>\n",
              "    <tr>\n",
              "      <th>3</th>\n",
              "      <td>2450584.0</td>\n",
              "      <td>Drake</td>\n",
              "      <td>One Dance</td>\n",
              "      <td>baby, i like your style   grips on your waist,...</td>\n",
              "      <td>0</td>\n",
              "      <td>0</td>\n",
              "      <td>1</td>\n",
              "      <td>0</td>\n",
              "      <td>0</td>\n",
              "      <td>1</td>\n",
              "      <td>0</td>\n",
              "      <td>0</td>\n",
              "      <td>0</td>\n",
              "      <td>0</td>\n",
              "      <td>0</td>\n",
              "      <td>0</td>\n",
              "    </tr>\n",
              "    <tr>\n",
              "      <th>4</th>\n",
              "      <td>200546.0</td>\n",
              "      <td>Drake</td>\n",
              "      <td>Hold On, We’re Going Home</td>\n",
              "      <td>i got my eyes on you you're everything that i ...</td>\n",
              "      <td>0</td>\n",
              "      <td>0</td>\n",
              "      <td>1</td>\n",
              "      <td>0</td>\n",
              "      <td>0</td>\n",
              "      <td>0</td>\n",
              "      <td>1</td>\n",
              "      <td>0</td>\n",
              "      <td>0</td>\n",
              "      <td>0</td>\n",
              "      <td>0</td>\n",
              "      <td>0</td>\n",
              "    </tr>\n",
              "  </tbody>\n",
              "</table>\n",
              "</div>\n",
              "    <div class=\"colab-df-buttons\">\n",
              "\n",
              "  <div class=\"colab-df-container\">\n",
              "    <button class=\"colab-df-convert\" onclick=\"convertToInteractive('df-8048a586-274d-4605-b799-cb8712672f83')\"\n",
              "            title=\"Convert this dataframe to an interactive table.\"\n",
              "            style=\"display:none;\">\n",
              "\n",
              "  <svg xmlns=\"http://www.w3.org/2000/svg\" height=\"24px\" viewBox=\"0 -960 960 960\">\n",
              "    <path d=\"M120-120v-720h720v720H120Zm60-500h600v-160H180v160Zm220 220h160v-160H400v160Zm0 220h160v-160H400v160ZM180-400h160v-160H180v160Zm440 0h160v-160H620v160ZM180-180h160v-160H180v160Zm440 0h160v-160H620v160Z\"/>\n",
              "  </svg>\n",
              "    </button>\n",
              "\n",
              "  <style>\n",
              "    .colab-df-container {\n",
              "      display:flex;\n",
              "      gap: 12px;\n",
              "    }\n",
              "\n",
              "    .colab-df-convert {\n",
              "      background-color: #E8F0FE;\n",
              "      border: none;\n",
              "      border-radius: 50%;\n",
              "      cursor: pointer;\n",
              "      display: none;\n",
              "      fill: #1967D2;\n",
              "      height: 32px;\n",
              "      padding: 0 0 0 0;\n",
              "      width: 32px;\n",
              "    }\n",
              "\n",
              "    .colab-df-convert:hover {\n",
              "      background-color: #E2EBFA;\n",
              "      box-shadow: 0px 1px 2px rgba(60, 64, 67, 0.3), 0px 1px 3px 1px rgba(60, 64, 67, 0.15);\n",
              "      fill: #174EA6;\n",
              "    }\n",
              "\n",
              "    .colab-df-buttons div {\n",
              "      margin-bottom: 4px;\n",
              "    }\n",
              "\n",
              "    [theme=dark] .colab-df-convert {\n",
              "      background-color: #3B4455;\n",
              "      fill: #D2E3FC;\n",
              "    }\n",
              "\n",
              "    [theme=dark] .colab-df-convert:hover {\n",
              "      background-color: #434B5C;\n",
              "      box-shadow: 0px 1px 3px 1px rgba(0, 0, 0, 0.15);\n",
              "      filter: drop-shadow(0px 1px 2px rgba(0, 0, 0, 0.3));\n",
              "      fill: #FFFFFF;\n",
              "    }\n",
              "  </style>\n",
              "\n",
              "    <script>\n",
              "      const buttonEl =\n",
              "        document.querySelector('#df-8048a586-274d-4605-b799-cb8712672f83 button.colab-df-convert');\n",
              "      buttonEl.style.display =\n",
              "        google.colab.kernel.accessAllowed ? 'block' : 'none';\n",
              "\n",
              "      async function convertToInteractive(key) {\n",
              "        const element = document.querySelector('#df-8048a586-274d-4605-b799-cb8712672f83');\n",
              "        const dataTable =\n",
              "          await google.colab.kernel.invokeFunction('convertToInteractive',\n",
              "                                                    [key], {});\n",
              "        if (!dataTable) return;\n",
              "\n",
              "        const docLinkHtml = 'Like what you see? Visit the ' +\n",
              "          '<a target=\"_blank\" href=https://colab.research.google.com/notebooks/data_table.ipynb>data table notebook</a>'\n",
              "          + ' to learn more about interactive tables.';\n",
              "        element.innerHTML = '';\n",
              "        dataTable['output_type'] = 'display_data';\n",
              "        await google.colab.output.renderOutput(dataTable, element);\n",
              "        const docLink = document.createElement('div');\n",
              "        docLink.innerHTML = docLinkHtml;\n",
              "        element.appendChild(docLink);\n",
              "      }\n",
              "    </script>\n",
              "  </div>\n",
              "\n",
              "\n",
              "<div id=\"df-3e32e2aa-c66f-4616-88b9-c2f319476665\">\n",
              "  <button class=\"colab-df-quickchart\" onclick=\"quickchart('df-3e32e2aa-c66f-4616-88b9-c2f319476665')\"\n",
              "            title=\"Suggest charts\"\n",
              "            style=\"display:none;\">\n",
              "\n",
              "<svg xmlns=\"http://www.w3.org/2000/svg\" height=\"24px\"viewBox=\"0 0 24 24\"\n",
              "     width=\"24px\">\n",
              "    <g>\n",
              "        <path d=\"M19 3H5c-1.1 0-2 .9-2 2v14c0 1.1.9 2 2 2h14c1.1 0 2-.9 2-2V5c0-1.1-.9-2-2-2zM9 17H7v-7h2v7zm4 0h-2V7h2v10zm4 0h-2v-4h2v4z\"/>\n",
              "    </g>\n",
              "</svg>\n",
              "  </button>\n",
              "\n",
              "<style>\n",
              "  .colab-df-quickchart {\n",
              "      --bg-color: #E8F0FE;\n",
              "      --fill-color: #1967D2;\n",
              "      --hover-bg-color: #E2EBFA;\n",
              "      --hover-fill-color: #174EA6;\n",
              "      --disabled-fill-color: #AAA;\n",
              "      --disabled-bg-color: #DDD;\n",
              "  }\n",
              "\n",
              "  [theme=dark] .colab-df-quickchart {\n",
              "      --bg-color: #3B4455;\n",
              "      --fill-color: #D2E3FC;\n",
              "      --hover-bg-color: #434B5C;\n",
              "      --hover-fill-color: #FFFFFF;\n",
              "      --disabled-bg-color: #3B4455;\n",
              "      --disabled-fill-color: #666;\n",
              "  }\n",
              "\n",
              "  .colab-df-quickchart {\n",
              "    background-color: var(--bg-color);\n",
              "    border: none;\n",
              "    border-radius: 50%;\n",
              "    cursor: pointer;\n",
              "    display: none;\n",
              "    fill: var(--fill-color);\n",
              "    height: 32px;\n",
              "    padding: 0;\n",
              "    width: 32px;\n",
              "  }\n",
              "\n",
              "  .colab-df-quickchart:hover {\n",
              "    background-color: var(--hover-bg-color);\n",
              "    box-shadow: 0 1px 2px rgba(60, 64, 67, 0.3), 0 1px 3px 1px rgba(60, 64, 67, 0.15);\n",
              "    fill: var(--button-hover-fill-color);\n",
              "  }\n",
              "\n",
              "  .colab-df-quickchart-complete:disabled,\n",
              "  .colab-df-quickchart-complete:disabled:hover {\n",
              "    background-color: var(--disabled-bg-color);\n",
              "    fill: var(--disabled-fill-color);\n",
              "    box-shadow: none;\n",
              "  }\n",
              "\n",
              "  .colab-df-spinner {\n",
              "    border: 2px solid var(--fill-color);\n",
              "    border-color: transparent;\n",
              "    border-bottom-color: var(--fill-color);\n",
              "    animation:\n",
              "      spin 1s steps(1) infinite;\n",
              "  }\n",
              "\n",
              "  @keyframes spin {\n",
              "    0% {\n",
              "      border-color: transparent;\n",
              "      border-bottom-color: var(--fill-color);\n",
              "      border-left-color: var(--fill-color);\n",
              "    }\n",
              "    20% {\n",
              "      border-color: transparent;\n",
              "      border-left-color: var(--fill-color);\n",
              "      border-top-color: var(--fill-color);\n",
              "    }\n",
              "    30% {\n",
              "      border-color: transparent;\n",
              "      border-left-color: var(--fill-color);\n",
              "      border-top-color: var(--fill-color);\n",
              "      border-right-color: var(--fill-color);\n",
              "    }\n",
              "    40% {\n",
              "      border-color: transparent;\n",
              "      border-right-color: var(--fill-color);\n",
              "      border-top-color: var(--fill-color);\n",
              "    }\n",
              "    60% {\n",
              "      border-color: transparent;\n",
              "      border-right-color: var(--fill-color);\n",
              "    }\n",
              "    80% {\n",
              "      border-color: transparent;\n",
              "      border-right-color: var(--fill-color);\n",
              "      border-bottom-color: var(--fill-color);\n",
              "    }\n",
              "    90% {\n",
              "      border-color: transparent;\n",
              "      border-bottom-color: var(--fill-color);\n",
              "    }\n",
              "  }\n",
              "</style>\n",
              "\n",
              "  <script>\n",
              "    async function quickchart(key) {\n",
              "      const quickchartButtonEl =\n",
              "        document.querySelector('#' + key + ' button');\n",
              "      quickchartButtonEl.disabled = true;  // To prevent multiple clicks.\n",
              "      quickchartButtonEl.classList.add('colab-df-spinner');\n",
              "      try {\n",
              "        const charts = await google.colab.kernel.invokeFunction(\n",
              "            'suggestCharts', [key], {});\n",
              "      } catch (error) {\n",
              "        console.error('Error during call to suggestCharts:', error);\n",
              "      }\n",
              "      quickchartButtonEl.classList.remove('colab-df-spinner');\n",
              "      quickchartButtonEl.classList.add('colab-df-quickchart-complete');\n",
              "    }\n",
              "    (() => {\n",
              "      let quickchartButtonEl =\n",
              "        document.querySelector('#df-3e32e2aa-c66f-4616-88b9-c2f319476665 button');\n",
              "      quickchartButtonEl.style.display =\n",
              "        google.colab.kernel.accessAllowed ? 'block' : 'none';\n",
              "    })();\n",
              "  </script>\n",
              "</div>\n",
              "    </div>\n",
              "  </div>\n"
            ]
          },
          "metadata": {},
          "execution_count": 22
        }
      ]
    },
    {
      "cell_type": "code",
      "source": [
        "df_combined.to_csv('final-combined-ds.csv', index=False)"
      ],
      "metadata": {
        "id": "fqItRpRtmEdc"
      },
      "execution_count": null,
      "outputs": []
    },
    {
      "cell_type": "markdown",
      "source": [],
      "metadata": {
        "id": "FzcoFPw9h-y9"
      }
    }
  ]
}